{
  "nbformat": 4,
  "nbformat_minor": 0,
  "metadata": {
    "colab": {
      "provenance": [],
      "authorship_tag": "ABX9TyPa6N63kJVUL2Qq08p9fP41",
      "include_colab_link": true
    },
    "kernelspec": {
      "name": "python3",
      "display_name": "Python 3"
    },
    "language_info": {
      "name": "python"
    }
  },
  "cells": [
    {
      "cell_type": "markdown",
      "metadata": {
        "id": "view-in-github",
        "colab_type": "text"
      },
      "source": [
        "<a href=\"https://colab.research.google.com/github/Aminolroaya/Langchain_For_Customized_Data/blob/main/Langchain_Chat_with_Data.ipynb\" target=\"_parent\"><img src=\"https://colab.research.google.com/assets/colab-badge.svg\" alt=\"Open In Colab\"/></a>"
      ]
    },
    {
      "cell_type": "code",
      "execution_count": 6,
      "metadata": {
        "colab": {
          "base_uri": "https://localhost:8080/"
        },
        "id": "TLmPCQk5maQJ",
        "outputId": "1a45d14e-f1b9-4bd7-8217-09045d4ba7c1"
      },
      "outputs": [
        {
          "output_type": "stream",
          "name": "stdout",
          "text": [
            "Requirement already satisfied: langchain in /usr/local/lib/python3.10/dist-packages (0.0.260)\n",
            "Requirement already satisfied: PyYAML>=5.3 in /usr/local/lib/python3.10/dist-packages (from langchain) (6.0.1)\n",
            "Requirement already satisfied: SQLAlchemy<3,>=1.4 in /usr/local/lib/python3.10/dist-packages (from langchain) (2.0.19)\n",
            "Requirement already satisfied: aiohttp<4.0.0,>=3.8.3 in /usr/local/lib/python3.10/dist-packages (from langchain) (3.8.5)\n",
            "Requirement already satisfied: async-timeout<5.0.0,>=4.0.0 in /usr/local/lib/python3.10/dist-packages (from langchain) (4.0.2)\n",
            "Requirement already satisfied: dataclasses-json<0.6.0,>=0.5.7 in /usr/local/lib/python3.10/dist-packages (from langchain) (0.5.14)\n",
            "Requirement already satisfied: langsmith<0.1.0,>=0.0.11 in /usr/local/lib/python3.10/dist-packages (from langchain) (0.0.20)\n",
            "Requirement already satisfied: numexpr<3.0.0,>=2.8.4 in /usr/local/lib/python3.10/dist-packages (from langchain) (2.8.4)\n",
            "Requirement already satisfied: numpy<2,>=1 in /usr/local/lib/python3.10/dist-packages (from langchain) (1.23.5)\n",
            "Requirement already satisfied: openapi-schema-pydantic<2.0,>=1.2 in /usr/local/lib/python3.10/dist-packages (from langchain) (1.2.4)\n",
            "Requirement already satisfied: pydantic<2,>=1 in /usr/local/lib/python3.10/dist-packages (from langchain) (1.10.12)\n",
            "Requirement already satisfied: requests<3,>=2 in /usr/local/lib/python3.10/dist-packages (from langchain) (2.31.0)\n",
            "Requirement already satisfied: tenacity<9.0.0,>=8.1.0 in /usr/local/lib/python3.10/dist-packages (from langchain) (8.2.2)\n",
            "Requirement already satisfied: attrs>=17.3.0 in /usr/local/lib/python3.10/dist-packages (from aiohttp<4.0.0,>=3.8.3->langchain) (23.1.0)\n",
            "Requirement already satisfied: charset-normalizer<4.0,>=2.0 in /usr/local/lib/python3.10/dist-packages (from aiohttp<4.0.0,>=3.8.3->langchain) (3.2.0)\n",
            "Requirement already satisfied: multidict<7.0,>=4.5 in /usr/local/lib/python3.10/dist-packages (from aiohttp<4.0.0,>=3.8.3->langchain) (6.0.4)\n",
            "Requirement already satisfied: yarl<2.0,>=1.0 in /usr/local/lib/python3.10/dist-packages (from aiohttp<4.0.0,>=3.8.3->langchain) (1.9.2)\n",
            "Requirement already satisfied: frozenlist>=1.1.1 in /usr/local/lib/python3.10/dist-packages (from aiohttp<4.0.0,>=3.8.3->langchain) (1.4.0)\n",
            "Requirement already satisfied: aiosignal>=1.1.2 in /usr/local/lib/python3.10/dist-packages (from aiohttp<4.0.0,>=3.8.3->langchain) (1.3.1)\n",
            "Requirement already satisfied: marshmallow<4.0.0,>=3.18.0 in /usr/local/lib/python3.10/dist-packages (from dataclasses-json<0.6.0,>=0.5.7->langchain) (3.20.1)\n",
            "Requirement already satisfied: typing-inspect<1,>=0.4.0 in /usr/local/lib/python3.10/dist-packages (from dataclasses-json<0.6.0,>=0.5.7->langchain) (0.9.0)\n",
            "Requirement already satisfied: typing-extensions>=4.2.0 in /usr/local/lib/python3.10/dist-packages (from pydantic<2,>=1->langchain) (4.7.1)\n",
            "Requirement already satisfied: idna<4,>=2.5 in /usr/local/lib/python3.10/dist-packages (from requests<3,>=2->langchain) (3.4)\n",
            "Requirement already satisfied: urllib3<3,>=1.21.1 in /usr/local/lib/python3.10/dist-packages (from requests<3,>=2->langchain) (1.26.16)\n",
            "Requirement already satisfied: certifi>=2017.4.17 in /usr/local/lib/python3.10/dist-packages (from requests<3,>=2->langchain) (2023.7.22)\n",
            "Requirement already satisfied: greenlet!=0.4.17 in /usr/local/lib/python3.10/dist-packages (from SQLAlchemy<3,>=1.4->langchain) (2.0.2)\n",
            "Requirement already satisfied: packaging>=17.0 in /usr/local/lib/python3.10/dist-packages (from marshmallow<4.0.0,>=3.18.0->dataclasses-json<0.6.0,>=0.5.7->langchain) (23.1)\n",
            "Requirement already satisfied: mypy-extensions>=0.3.0 in /usr/local/lib/python3.10/dist-packages (from typing-inspect<1,>=0.4.0->dataclasses-json<0.6.0,>=0.5.7->langchain) (1.0.0)\n",
            "Requirement already satisfied: pypdf in /usr/local/lib/python3.10/dist-packages (3.15.0)\n",
            "Requirement already satisfied: openai in /usr/local/lib/python3.10/dist-packages (0.27.8)\n",
            "Requirement already satisfied: requests>=2.20 in /usr/local/lib/python3.10/dist-packages (from openai) (2.31.0)\n",
            "Requirement already satisfied: tqdm in /usr/local/lib/python3.10/dist-packages (from openai) (4.65.0)\n",
            "Requirement already satisfied: aiohttp in /usr/local/lib/python3.10/dist-packages (from openai) (3.8.5)\n",
            "Requirement already satisfied: charset-normalizer<4,>=2 in /usr/local/lib/python3.10/dist-packages (from requests>=2.20->openai) (3.2.0)\n",
            "Requirement already satisfied: idna<4,>=2.5 in /usr/local/lib/python3.10/dist-packages (from requests>=2.20->openai) (3.4)\n",
            "Requirement already satisfied: urllib3<3,>=1.21.1 in /usr/local/lib/python3.10/dist-packages (from requests>=2.20->openai) (1.26.16)\n",
            "Requirement already satisfied: certifi>=2017.4.17 in /usr/local/lib/python3.10/dist-packages (from requests>=2.20->openai) (2023.7.22)\n",
            "Requirement already satisfied: attrs>=17.3.0 in /usr/local/lib/python3.10/dist-packages (from aiohttp->openai) (23.1.0)\n",
            "Requirement already satisfied: multidict<7.0,>=4.5 in /usr/local/lib/python3.10/dist-packages (from aiohttp->openai) (6.0.4)\n",
            "Requirement already satisfied: async-timeout<5.0,>=4.0.0a3 in /usr/local/lib/python3.10/dist-packages (from aiohttp->openai) (4.0.2)\n",
            "Requirement already satisfied: yarl<2.0,>=1.0 in /usr/local/lib/python3.10/dist-packages (from aiohttp->openai) (1.9.2)\n",
            "Requirement already satisfied: frozenlist>=1.1.1 in /usr/local/lib/python3.10/dist-packages (from aiohttp->openai) (1.4.0)\n",
            "Requirement already satisfied: aiosignal>=1.1.2 in /usr/local/lib/python3.10/dist-packages (from aiohttp->openai) (1.3.1)\n",
            "Requirement already satisfied: python-dotenv in /usr/local/lib/python3.10/dist-packages (1.0.0)\n",
            "Requirement already satisfied: tiktoken in /usr/local/lib/python3.10/dist-packages (0.4.0)\n",
            "Requirement already satisfied: regex>=2022.1.18 in /usr/local/lib/python3.10/dist-packages (from tiktoken) (2022.10.31)\n",
            "Requirement already satisfied: requests>=2.26.0 in /usr/local/lib/python3.10/dist-packages (from tiktoken) (2.31.0)\n",
            "Requirement already satisfied: charset-normalizer<4,>=2 in /usr/local/lib/python3.10/dist-packages (from requests>=2.26.0->tiktoken) (3.2.0)\n",
            "Requirement already satisfied: idna<4,>=2.5 in /usr/local/lib/python3.10/dist-packages (from requests>=2.26.0->tiktoken) (3.4)\n",
            "Requirement already satisfied: urllib3<3,>=1.21.1 in /usr/local/lib/python3.10/dist-packages (from requests>=2.26.0->tiktoken) (1.26.16)\n",
            "Requirement already satisfied: certifi>=2017.4.17 in /usr/local/lib/python3.10/dist-packages (from requests>=2.26.0->tiktoken) (2023.7.22)\n",
            "Requirement already satisfied: chromadb in /usr/local/lib/python3.10/dist-packages (0.4.5)\n",
            "Requirement already satisfied: requests>=2.28 in /usr/local/lib/python3.10/dist-packages (from chromadb) (2.31.0)\n",
            "Requirement already satisfied: pydantic<2.0,>=1.9 in /usr/local/lib/python3.10/dist-packages (from chromadb) (1.10.12)\n",
            "Requirement already satisfied: chroma-hnswlib==0.7.2 in /usr/local/lib/python3.10/dist-packages (from chromadb) (0.7.2)\n",
            "Requirement already satisfied: fastapi<0.100.0,>=0.95.2 in /usr/local/lib/python3.10/dist-packages (from chromadb) (0.99.1)\n",
            "Requirement already satisfied: uvicorn[standard]>=0.18.3 in /usr/local/lib/python3.10/dist-packages (from chromadb) (0.23.2)\n",
            "Requirement already satisfied: numpy>=1.21.6 in /usr/local/lib/python3.10/dist-packages (from chromadb) (1.23.5)\n",
            "Requirement already satisfied: posthog>=2.4.0 in /usr/local/lib/python3.10/dist-packages (from chromadb) (3.0.1)\n",
            "Requirement already satisfied: typing-extensions>=4.5.0 in /usr/local/lib/python3.10/dist-packages (from chromadb) (4.7.1)\n",
            "Requirement already satisfied: pulsar-client>=3.1.0 in /usr/local/lib/python3.10/dist-packages (from chromadb) (3.2.0)\n",
            "Requirement already satisfied: onnxruntime>=1.14.1 in /usr/local/lib/python3.10/dist-packages (from chromadb) (1.15.1)\n",
            "Requirement already satisfied: tokenizers>=0.13.2 in /usr/local/lib/python3.10/dist-packages (from chromadb) (0.13.3)\n",
            "Requirement already satisfied: pypika>=0.48.9 in /usr/local/lib/python3.10/dist-packages (from chromadb) (0.48.9)\n",
            "Requirement already satisfied: tqdm>=4.65.0 in /usr/local/lib/python3.10/dist-packages (from chromadb) (4.65.0)\n",
            "Requirement already satisfied: overrides>=7.3.1 in /usr/local/lib/python3.10/dist-packages (from chromadb) (7.4.0)\n",
            "Requirement already satisfied: importlib-resources in /usr/local/lib/python3.10/dist-packages (from chromadb) (6.0.0)\n",
            "Requirement already satisfied: starlette<0.28.0,>=0.27.0 in /usr/local/lib/python3.10/dist-packages (from fastapi<0.100.0,>=0.95.2->chromadb) (0.27.0)\n",
            "Requirement already satisfied: coloredlogs in /usr/local/lib/python3.10/dist-packages (from onnxruntime>=1.14.1->chromadb) (15.0.1)\n",
            "Requirement already satisfied: flatbuffers in /usr/local/lib/python3.10/dist-packages (from onnxruntime>=1.14.1->chromadb) (23.5.26)\n",
            "Requirement already satisfied: packaging in /usr/local/lib/python3.10/dist-packages (from onnxruntime>=1.14.1->chromadb) (23.1)\n",
            "Requirement already satisfied: protobuf in /usr/local/lib/python3.10/dist-packages (from onnxruntime>=1.14.1->chromadb) (3.20.3)\n",
            "Requirement already satisfied: sympy in /usr/local/lib/python3.10/dist-packages (from onnxruntime>=1.14.1->chromadb) (1.11.1)\n",
            "Requirement already satisfied: six>=1.5 in /usr/local/lib/python3.10/dist-packages (from posthog>=2.4.0->chromadb) (1.16.0)\n",
            "Requirement already satisfied: monotonic>=1.5 in /usr/local/lib/python3.10/dist-packages (from posthog>=2.4.0->chromadb) (1.6)\n",
            "Requirement already satisfied: backoff>=1.10.0 in /usr/local/lib/python3.10/dist-packages (from posthog>=2.4.0->chromadb) (2.2.1)\n",
            "Requirement already satisfied: python-dateutil>2.1 in /usr/local/lib/python3.10/dist-packages (from posthog>=2.4.0->chromadb) (2.8.2)\n",
            "Requirement already satisfied: certifi in /usr/local/lib/python3.10/dist-packages (from pulsar-client>=3.1.0->chromadb) (2023.7.22)\n",
            "Requirement already satisfied: charset-normalizer<4,>=2 in /usr/local/lib/python3.10/dist-packages (from requests>=2.28->chromadb) (3.2.0)\n",
            "Requirement already satisfied: idna<4,>=2.5 in /usr/local/lib/python3.10/dist-packages (from requests>=2.28->chromadb) (3.4)\n",
            "Requirement already satisfied: urllib3<3,>=1.21.1 in /usr/local/lib/python3.10/dist-packages (from requests>=2.28->chromadb) (1.26.16)\n",
            "Requirement already satisfied: click>=7.0 in /usr/local/lib/python3.10/dist-packages (from uvicorn[standard]>=0.18.3->chromadb) (8.1.6)\n",
            "Requirement already satisfied: h11>=0.8 in /usr/local/lib/python3.10/dist-packages (from uvicorn[standard]>=0.18.3->chromadb) (0.14.0)\n",
            "Requirement already satisfied: httptools>=0.5.0 in /usr/local/lib/python3.10/dist-packages (from uvicorn[standard]>=0.18.3->chromadb) (0.6.0)\n",
            "Requirement already satisfied: python-dotenv>=0.13 in /usr/local/lib/python3.10/dist-packages (from uvicorn[standard]>=0.18.3->chromadb) (1.0.0)\n",
            "Requirement already satisfied: pyyaml>=5.1 in /usr/local/lib/python3.10/dist-packages (from uvicorn[standard]>=0.18.3->chromadb) (6.0.1)\n",
            "Requirement already satisfied: uvloop!=0.15.0,!=0.15.1,>=0.14.0 in /usr/local/lib/python3.10/dist-packages (from uvicorn[standard]>=0.18.3->chromadb) (0.17.0)\n",
            "Requirement already satisfied: watchfiles>=0.13 in /usr/local/lib/python3.10/dist-packages (from uvicorn[standard]>=0.18.3->chromadb) (0.19.0)\n",
            "Requirement already satisfied: websockets>=10.4 in /usr/local/lib/python3.10/dist-packages (from uvicorn[standard]>=0.18.3->chromadb) (11.0.3)\n",
            "Requirement already satisfied: anyio<5,>=3.4.0 in /usr/local/lib/python3.10/dist-packages (from starlette<0.28.0,>=0.27.0->fastapi<0.100.0,>=0.95.2->chromadb) (3.7.1)\n",
            "Requirement already satisfied: humanfriendly>=9.1 in /usr/local/lib/python3.10/dist-packages (from coloredlogs->onnxruntime>=1.14.1->chromadb) (10.0)\n",
            "Requirement already satisfied: mpmath>=0.19 in /usr/local/lib/python3.10/dist-packages (from sympy->onnxruntime>=1.14.1->chromadb) (1.3.0)\n",
            "Requirement already satisfied: sniffio>=1.1 in /usr/local/lib/python3.10/dist-packages (from anyio<5,>=3.4.0->starlette<0.28.0,>=0.27.0->fastapi<0.100.0,>=0.95.2->chromadb) (1.3.0)\n",
            "Requirement already satisfied: exceptiongroup in /usr/local/lib/python3.10/dist-packages (from anyio<5,>=3.4.0->starlette<0.28.0,>=0.27.0->fastapi<0.100.0,>=0.95.2->chromadb) (1.1.2)\n",
            "Requirement already satisfied: lark in /usr/local/lib/python3.10/dist-packages (1.1.7)\n",
            "Collecting yt_dlp\n",
            "  Downloading yt_dlp-2023.7.6-py2.py3-none-any.whl (3.0 MB)\n",
            "\u001b[2K     \u001b[90m━━━━━━━━━━━━━━━━━━━━━━━━━━━━━━━━━━━━━━━━\u001b[0m \u001b[32m3.0/3.0 MB\u001b[0m \u001b[31m12.5 MB/s\u001b[0m eta \u001b[36m0:00:00\u001b[0m\n",
            "\u001b[?25hCollecting mutagen (from yt_dlp)\n",
            "  Downloading mutagen-1.46.0-py3-none-any.whl (193 kB)\n",
            "\u001b[2K     \u001b[90m━━━━━━━━━━━━━━━━━━━━━━━━━━━━━━━━━━━━━━\u001b[0m \u001b[32m193.6/193.6 kB\u001b[0m \u001b[31m17.0 MB/s\u001b[0m eta \u001b[36m0:00:00\u001b[0m\n",
            "\u001b[?25hCollecting pycryptodomex (from yt_dlp)\n",
            "  Downloading pycryptodomex-3.18.0-cp35-abi3-manylinux_2_17_x86_64.manylinux2014_x86_64.whl (2.1 MB)\n",
            "\u001b[2K     \u001b[90m━━━━━━━━━━━━━━━━━━━━━━━━━━━━━━━━━━━━━━━━\u001b[0m \u001b[32m2.1/2.1 MB\u001b[0m \u001b[31m22.0 MB/s\u001b[0m eta \u001b[36m0:00:00\u001b[0m\n",
            "\u001b[?25hRequirement already satisfied: websockets in /usr/local/lib/python3.10/dist-packages (from yt_dlp) (11.0.3)\n",
            "Requirement already satisfied: certifi in /usr/local/lib/python3.10/dist-packages (from yt_dlp) (2023.7.22)\n",
            "Collecting brotli (from yt_dlp)\n",
            "  Downloading Brotli-1.0.9-cp310-cp310-manylinux_2_5_x86_64.manylinux1_x86_64.manylinux_2_12_x86_64.manylinux2010_x86_64.whl (2.7 MB)\n",
            "\u001b[2K     \u001b[90m━━━━━━━━━━━━━━━━━━━━━━━━━━━━━━━━━━━━━━━━\u001b[0m \u001b[32m2.7/2.7 MB\u001b[0m \u001b[31m29.0 MB/s\u001b[0m eta \u001b[36m0:00:00\u001b[0m\n",
            "\u001b[?25hInstalling collected packages: brotli, pycryptodomex, mutagen, yt_dlp\n",
            "Successfully installed brotli-1.0.9 mutagen-1.46.0 pycryptodomex-3.18.0 yt_dlp-2023.7.6\n",
            "Collecting pydub\n",
            "  Downloading pydub-0.25.1-py2.py3-none-any.whl (32 kB)\n",
            "Installing collected packages: pydub\n",
            "Successfully installed pydub-0.25.1\n"
          ]
        }
      ],
      "source": [
        "#install required packages\n",
        "! pip install langchain\n",
        "! pip install pypdf\n",
        "!pip install openai\n",
        "!pip install python-dotenv\n",
        "!pip install tiktoken\n",
        "! pip install chromadb\n",
        "!pip install lark\n",
        "! pip install yt_dlp\n",
        "! pip install pydub\n"
      ]
    },
    {
      "cell_type": "code",
      "source": [
        "#call open ai embedding\n",
        "import os\n",
        "import openai\n",
        "import sys\n",
        "from langchain.embeddings.openai import OpenAIEmbeddings\n",
        "from langchain.vectorstores import Chroma\n",
        "os.environ[\"OPENAI_API_KEY\"] = \"Use your API Key ;)\"\n",
        "\n",
        "embedding = OpenAIEmbeddings()\n",
        "#embeddingSent1 = embedding.embed_query(\"life is short, so enjoy it\")\n",
        "#embeddingSent2 = embedding.embed_query(\"Be weird!\")\n"
      ],
      "metadata": {
        "id": "cBqxnwlmOSzE"
      },
      "execution_count": 10,
      "outputs": []
    },
    {
      "cell_type": "code",
      "source": [
        "#read from Youtube\n",
        "from langchain.document_loaders.generic import GenericLoader\n",
        "from langchain.document_loaders.parsers import OpenAIWhisperParser\n",
        "from langchain.document_loaders.blob_loaders.youtube_audio import YoutubeAudioLoader\n",
        "openai.api_key = os.environ[\"OPENAI_API_KEY\"]\n",
        "url=\"https://www.youtube.com/watch?v=duJk42smCqk\"\n",
        "save_dir=\"docs/youtube/\"\n",
        "loader = GenericLoader(\n",
        "    YoutubeAudioLoader([url],save_dir),\n",
        "    OpenAIWhisperParser()\n",
        ")\n",
        "docs = loader.load()"
      ],
      "metadata": {
        "colab": {
          "base_uri": "https://localhost:8080/"
        },
        "id": "-Ceqi63q0TKn",
        "outputId": "55896099-c2c2-4b19-ed1e-e3302f3b4b31"
      },
      "execution_count": 12,
      "outputs": [
        {
          "output_type": "stream",
          "name": "stdout",
          "text": [
            "[youtube] Extracting URL: https://www.youtube.com/watch?v=duJk42smCqk\n",
            "[youtube] duJk42smCqk: Downloading webpage\n",
            "[youtube] duJk42smCqk: Downloading ios player API JSON\n",
            "[youtube] duJk42smCqk: Downloading android player API JSON\n",
            "[youtube] duJk42smCqk: Downloading m3u8 information\n",
            "[info] duJk42smCqk: Downloading 1 format(s): 140\n",
            "[download] docs/youtube//Are House Prices In Calgary Dropping？ The Facts May Surprise You!.m4a has already been downloaded\n",
            "[download] 100% of    8.41MiB\n",
            "[ExtractAudio] Not converting audio docs/youtube//Are House Prices In Calgary Dropping？ The Facts May Surprise You!.m4a; file is already in target format m4a\n",
            "Transcribing part 1!\n"
          ]
        }
      ]
    },
    {
      "cell_type": "code",
      "source": [
        "from langchain.text_splitter import CharacterTextSplitter\n",
        "text_splitter = CharacterTextSplitter(\n",
        "    separator=\"\\n\",\n",
        "    chunk_size=1000,\n",
        "    chunk_overlap=150,\n",
        "    length_function=len\n",
        ")\n",
        "splits = text_splitter.split_documents(docs)"
      ],
      "metadata": {
        "id": "eNDPW9wk2mgv"
      },
      "execution_count": 14,
      "outputs": []
    },
    {
      "cell_type": "code",
      "source": [
        "# save in vector DB\n",
        "vectordb = Chroma.from_documents(\n",
        "    documents=splits,\n",
        "    embedding=embedding,\n",
        "    persist_directory='docs/chroma/'\n",
        ")"
      ],
      "metadata": {
        "id": "B-8ek0ehfG3u"
      },
      "execution_count": 15,
      "outputs": []
    },
    {
      "cell_type": "code",
      "source": [
        "\n",
        "#question = \"what the course is about?\"\n",
        "#docs = vectordb.similarity_search(question,k=5)\n",
        "#for doc in docs:\n",
        "#    print(doc.page_content)"
      ],
      "metadata": {
        "colab": {
          "base_uri": "https://localhost:8080/"
        },
        "id": "qqN_XUPlnoL-",
        "outputId": "13c8fd0c-c524-4107-b0d0-afa423850ee1"
      },
      "execution_count": null,
      "outputs": [
        {
          "output_type": "stream",
          "name": "stdout",
          "text": [
            "middle of class, but because there won't be video you can safely sit there and make faces \n",
            "at me, and that won't show, okay?  \n",
            "Let's see. I also handed out this — ther e were two handouts I hope most of you have, \n",
            "course information handout. So let me just sa y a few words about parts of these. On the \n",
            "third page, there's a section that says Online Resources.  \n",
            "Oh, okay. Louder? Actually, could you turn up the volume? Testing. Is this better? \n",
            "Testing, testing. Okay, cool. Thanks.\n",
            "middle of class, but because there won't be video you can safely sit there and make faces \n",
            "at me, and that won't show, okay?  \n",
            "Let's see. I also handed out this — ther e were two handouts I hope most of you have, \n",
            "course information handout. So let me just sa y a few words about parts of these. On the \n",
            "third page, there's a section that says Online Resources.  \n",
            "Oh, okay. Louder? Actually, could you turn up the volume? Testing. Is this better? \n",
            "Testing, testing. Okay, cool. Thanks.\n",
            "MachineLearning-Lecture01  \n",
            "Instructor (Andrew Ng):  Okay. Good morning. Welcome to CS229, the machine \n",
            "learning class. So what I wanna do today is ju st spend a little time going over the logistics \n",
            "of the class, and then we'll start to  talk a bit about machine learning.  \n",
            "By way of introduction, my name's  Andrew Ng and I'll be instru ctor for this class. And so \n",
            "I personally work in machine learning, and I' ve worked on it for about 15 years now, and \n",
            "I actually think that machine learning is th e most exciting field of all the computer \n",
            "sciences. So I'm actually always excited about  teaching this class. Sometimes I actually \n",
            "think that machine learning is not only the most exciting thin g in computer science, but \n",
            "the most exciting thing in all of human e ndeavor, so maybe a little bias there.  \n",
            "I also want to introduce the TAs, who are all graduate students doing research in or \n",
            "related to the machine learni ng and all aspects of machin e learning. Paul Baumstarck\n",
            "MachineLearning-Lecture01  \n",
            "Instructor (Andrew Ng):  Okay. Good morning. Welcome to CS229, the machine \n",
            "learning class. So what I wanna do today is ju st spend a little time going over the logistics \n",
            "of the class, and then we'll start to  talk a bit about machine learning.  \n",
            "By way of introduction, my name's  Andrew Ng and I'll be instru ctor for this class. And so \n",
            "I personally work in machine learning, and I' ve worked on it for about 15 years now, and \n",
            "I actually think that machine learning is th e most exciting field of all the computer \n",
            "sciences. So I'm actually always excited about  teaching this class. Sometimes I actually \n",
            "think that machine learning is not only the most exciting thin g in computer science, but \n",
            "the most exciting thing in all of human e ndeavor, so maybe a little bias there.  \n",
            "I also want to introduce the TAs, who are all graduate students doing research in or \n",
            "related to the machine learni ng and all aspects of machin e learning. Paul Baumstarck\n",
            "refresher for those of you that want one.  \n",
            "Later in this quarter, we'll also use the disc ussion sections to go over extensions for the \n",
            "material that I'm teaching in the main lectur es. So machine learning is a huge field, and \n",
            "there are a few extensions that we really want  to teach but didn't have time in the main \n",
            "lectures for.\n"
          ]
        }
      ]
    },
    {
      "cell_type": "code",
      "source": [
        "# retrieve documents find similarities\n",
        "#from langchain.vectorstores import Chroma\n",
        "#from langchain.embeddings.openai import OpenAIEmbeddings\n",
        "#persist_directory = 'docs/chroma/'\n",
        "\n",
        "#texts = [\n",
        "#    \"\"\"The Amanita phalloides has a large and imposing epigeous (aboveground) fruiting body (basidiocarp).\"\"\",\n",
        "#    \"\"\"A mushroom with a large fruiting body is the Amanita phalloides. Some varieties are all-white.\"\"\",\n",
        "#    \"\"\"A. phalloides, a.k.a Death Cap, is one of the most poisonous of all known mushrooms.\"\"\",\n",
        "#]\n",
        "#smalldb = Chroma.from_texts(texts, embedding=embedding)\n",
        "#question = \"Tell me about all-white mushrooms with large fruiting bodies\"\n",
        "#smalldb.similarity_search(question, k=2)\n",
        "#smalldb.max_marginal_relevance_search(question,k=2, fetch_k=3)*/"
      ],
      "metadata": {
        "colab": {
          "base_uri": "https://localhost:8080/"
        },
        "id": "YbEgjzHFESCz",
        "outputId": "634e78a5-34f7-4492-8e50-ffc3b74fb5e6"
      },
      "execution_count": null,
      "outputs": [
        {
          "output_type": "execute_result",
          "data": {
            "text/plain": [
              "[Document(page_content='A mushroom with a large fruiting body is the Amanita phalloides. Some varieties are all-white.', metadata={}),\n",
              " Document(page_content='A mushroom with a large fruiting body is the Amanita phalloides. Some varieties are all-white.', metadata={})]"
            ]
          },
          "metadata": {},
          "execution_count": 60
        }
      ]
    },
    {
      "cell_type": "code",
      "source": [
        "vectordb.similarity_search(\"will the prices decrease?\",k=3)"
      ],
      "metadata": {
        "colab": {
          "base_uri": "https://localhost:8080/"
        },
        "id": "wKCRGXe0bGwu",
        "outputId": "80b9f089-5c7f-4e2e-9f2a-652610f6dbe5"
      },
      "execution_count": 16,
      "outputs": [
        {
          "output_type": "stream",
          "name": "stderr",
          "text": [
            "WARNING:chromadb.segment.impl.vector.local_persistent_hnsw:Number of requested results 3 is greater than number of elements in index 1, updating n_results = 1\n"
          ]
        },
        {
          "output_type": "execute_result",
          "data": {
            "text/plain": [
              "[Document(page_content=\"Hello there and welcome to my channel, Living in Calgary, Alberta. Today's video we're going to discuss, are Calgary house prices going to be dropping in 2023? Well, this is going to be my July 1st real estate market update for Calgary, and we're going to discuss what's causing the prices to continue to rise in Calgary, and what you can expect, or when you can expect house prices to start to drop in Calgary. So I'm going to go over those things. I'm actually working out of my RV. I'm on holidays in BC. That's one of the nice things about living in Calgary, Alberta, is that we're just about three hours away, just west, and we're close to a lake, and one of the things that we love to do in the summer, of course, is go camping, and it's only a three-hour drive, so it's quite nice. So anyway, we're going to dive into the Calgary real estate market update for July 2023, right after this. Alright, so before I get started and dive in, if you're new to my channel or haven't subscribed yet, I invite you to subscribe if you want to learn everything about living in Calgary, Alberta. That's what my channel is all about. I'm a real estate agent in Calgary, and I've been selling for over 30 years, so I know a lot about Calgary, and I help families from all across Canada and from different parts of the world, people that are relocating to Calgary, and I really try to help you and your family find the best home based on your lifestyle and also your budget. So feel free to subscribe and, of course, ring that bell. That way you get updated on the very next video. Alright, so let's get started. I'm going to go into some of the graphs and charts that our real estate board provides us, and this gives us a better indication and kind of look at what the trend is and what's causing the prices to go up. So we're going to jump on the June stats, and this is for the month of June, and again, this shows us where we are as we go into July. Okay, so here's a quick snapshot of where we're at right now. In June, we had 3,146 sales. We had 3,939 new listings, and our inventory was sitting at 3,458 units. Average benchmark price was $564,000, and our detached prices of homes were $685,100. Semi-detached price was $613,100, and our row housing, which is townhouses, ended up at $400,000, and apartments are at $303,200. And so, as you can see, all the areas or all the different types of properties all have increased in value. Alright, so let's take a closer look at each type. The detached home sales, this is a graph that is showing the inventory and sales. So, that's this bottom left graph here. The blue bar is the inventory, the green bar is sales, and the red trend line is the benchmark price. And as you can see, June last year, we saw actually the detached homes fall in value. It wasn't a lot, but it did fall a bit, and as you can see, the distance between the inventory and sales is quite a bit larger. And then on this side, we can see as we got into 2023, our inventory levels were depleted fairly quickly. And right now, we're less than, or not less, but about one month of supply of detached homes. And this is the graph over here on the right that shows the months of supply. And for that, what that means is that all the listings, if nothing got listed new, would be all depleted within one month. So, as you can see, low inventory usually means prices are on the rise. And as you can see over here as well, the detached new listings are down, and for the last, since 2021, each year this time, they're just continually going down. So, at some point, this will probably change. You know, no trend lasts forever. That's one of the things that some people think is that realtors set the price, and it's actually the market that sets the price. It's a supply and demand rule or a law that dictates the value of anything, and houses are no different. So, as long as there is a high demand and low supply, people are willing to pay more for a house. So, you know, people need to live somewhere. When they come into Calgary, they're either going to rent or buy, so they have to stay somewhere. And as long as people continue to choose Calgary as a place to live, for instance, people that are living in Toronto and Vancouver are moving to Calgary or Alberta, somewhere in Alberta, and a lot of people are choosing Calgary, and our prices are so much lower here for housing, and they have the ability to have a good job here or work remotely, they're choosing Calgary. So, that has put a lot of pressure on the housing market and our supply. And the other thing that we're seeing, of course, is international immigration, and that's also putting more pressure on our overall supply. Okay, so let's take a look here at the apartment inventory and sales. And we're seeing the same thing here, as you can see on this graph, is that this is pushing our prices upwards. And, again, the amount of sales and inventory, you can see inventory is flattened here, but our sales continue to rise. And so that is making the prices continue to go up in the apartment inventory and sales. So, here we have the semi-detached inventory and sales. And same thing, semi-detached is like a half duplex. And, you know, these are shooting up. This is over $610,000. And a lot of people just can't believe that a half a duplex is costing this much. But the reality is that it's still cheaper than a detached home. And in a lot of cases, people are kind of maxed out at a certain price range, and they still want to get into their own property and not have to pay condo fees that townhouses typically have. And so they choose the semi-detached. And because, again, so many people are doing that, prices are continuing to go up. And here we have row inventory and sales. Same scenario, as you can see here with the supply and demand or the inventory and sales. It's just causing the prices to continue to go up here. So there you see that we can expect that prices will continue to rise as long as we see this high demand and low supply. And, again, how long that will be? I think as long as we see that Toronto and Vancouver prices so much higher, they're drastically higher. And so we're seeing so many people within Canada moving over into Alberta and choosing usually between Edmonton or Calgary or around each of these major cities. People are choosing to live there. So I work with people from all over Canada and, of course, from different countries around the world, and they're relocating to Calgary. And what I do is help you and your family find the best match for homes in communities that make sense for you and your family's lifestyle and budget. And so all you need to do is reach out to me by you can email me, of course. That's actually a good way to get a hold of me. And then we can set up a time for a Zoom call. And that way we can discuss in more detail your situation. But you can also, again, just call me directly. My information is below. Text me. I use WhatsApp as well. And I'd love to chat with you and help you make your transition to Calgary a smooth one. Feel free to leave a comment below or ask a question. I'd love to answer that for you. I do reply to every comment that comes in. Of course, give me a like if you if you could. That really does help my channel out. Thanks for watching and have a great day.\", metadata={'chunk': 0, 'source': 'docs/youtube/Are House Prices In Calgary Dropping？ The Facts May Surprise You!.m4a'})]"
            ]
          },
          "metadata": {},
          "execution_count": 16
        }
      ]
    },
    {
      "cell_type": "code",
      "source": [
        "#Load LLM\n",
        "from langchain.chat_models import ChatOpenAI\n",
        "llm = ChatOpenAI(model_name='gpt-3.5-turbo', temperature=0)"
      ],
      "metadata": {
        "id": "sxmrhQzzyqrM"
      },
      "execution_count": 17,
      "outputs": []
    },
    {
      "cell_type": "code",
      "source": [],
      "metadata": {
        "id": "wRbrycDo3U5z"
      },
      "execution_count": null,
      "outputs": []
    }
  ]
}